{
 "cells": [
  {
   "attachments": {},
   "cell_type": "markdown",
   "metadata": {},
   "source": [
    "# Modelo: Boosting\n",
    "\n",
    "---\n",
    "\n",
    "## Resultados dashboard\n",
    "\n",
    "- Prueba N° 2: \n",
    "    - Recall: 0.793\n",
    "    - Acurracy: 0.761\n",
    "<br>\n",
    "<br>\n",
    "- Prueba N° 3: \n",
    "    - Recall: 0.794\n",
    "    - Acurracy: 0.758\n"
   ]
  },
  {
   "cell_type": "code",
   "execution_count": null,
   "metadata": {},
   "outputs": [],
   "source": [
    "import pandas as pd\n",
    "import numpy as np\n",
    "from sklearn.model_selection import GridSearchCV\n",
    "import xgboost as xgb\n",
    "from models.utils import transform_df, save_results"
   ]
  },
  {
   "attachments": {},
   "cell_type": "markdown",
   "metadata": {},
   "source": [
    "#### Se cargan los datos y se realizan las transformaciones"
   ]
  },
  {
   "cell_type": "code",
   "execution_count": null,
   "metadata": {},
   "outputs": [],
   "source": [
    "df_train = transform_df(\"datasets/hospitalizaciones_train.csv\")\n",
    "df_test = transform_df(\"datasets/hospitalizaciones_test.csv\", test=True)"
   ]
  },
  {
   "attachments": {},
   "cell_type": "markdown",
   "metadata": {},
   "source": [
    "#### Se extraen los valores de train y test"
   ]
  },
  {
   "cell_type": "code",
   "execution_count": null,
   "metadata": {},
   "outputs": [],
   "source": [
    "x_train = df_train.drop(columns=[\"stay_labed\"]).values\n",
    "y_train = df_train[\"stay_labed\"].values.reshape(-1, 1)\n",
    "x_test = df_test.values"
   ]
  },
  {
   "attachments": {},
   "cell_type": "markdown",
   "metadata": {},
   "source": [
    "#### Se definen los parametros a optimizar"
   ]
  },
  {
   "cell_type": "code",
   "execution_count": null,
   "metadata": {},
   "outputs": [],
   "source": [
    "test_params = {\n",
    "    \"n_estimators\": np.arange(100, 160, 10),\n",
    "    \"learning_rate\": np.arange(0.5, 1, 0.1),\n",
    "    \"booster\": [\"gbtree\", \"gblinear\", \"dart\"],\n",
    "    \"tree_method\": [\"exact\", \"approx\", \"hist\", \"gpu_hist\"],\n",
    "    \"subsample\": [0.9],\n",
    "    \"max_depth\": np.arange(8, 20, 1),\n",
    "    \"grow_policy\": [\"depthwise\"],\n",
    "}"
   ]
  },
  {
   "attachments": {},
   "cell_type": "markdown",
   "metadata": {},
   "source": [
    "#### Se realiza la busqueda de los parametros optimos"
   ]
  },
  {
   "cell_type": "code",
   "execution_count": null,
   "metadata": {},
   "outputs": [],
   "source": [
    "grid_serch_boosting_classifier = GridSearchCV(\n",
    "    estimator=xgb.XGBClassifier(),\n",
    "    cv=5,\n",
    "    n_jobs=-1,\n",
    "    param_grid=test_params,\n",
    "    scoring=[\"recall\", \"accuracy\"],\n",
    "    refit=\"recall\",\n",
    "    verbose=3,\n",
    ")\n",
    "grid_serch_boosting_classifier.fit(x_train, y_train)"
   ]
  },
  {
   "attachments": {},
   "cell_type": "markdown",
   "metadata": {},
   "source": [
    "#### Se asignan los mejores parametros"
   ]
  },
  {
   "cell_type": "code",
   "execution_count": null,
   "metadata": {},
   "outputs": [],
   "source": [
    "best_params = grid_serch_boosting_classifier.best_params_"
   ]
  },
  {
   "attachments": {},
   "cell_type": "markdown",
   "metadata": {},
   "source": [
    "#### Se instancia el modelo con los parametros encontrados y se realiza la predicción"
   ]
  },
  {
   "cell_type": "code",
   "execution_count": null,
   "metadata": {},
   "outputs": [],
   "source": [
    "boosting_classifier = xgb.XGBClassifier(**best_params)\n",
    "y_pred = boosting_classifier.predict(x_test)"
   ]
  },
  {
   "attachments": {},
   "cell_type": "markdown",
   "metadata": {},
   "source": [
    "#### Se guardan los resultados obtenidos en la predicción"
   ]
  },
  {
   "cell_type": "code",
   "execution_count": null,
   "metadata": {},
   "outputs": [],
   "source": [
    "y_pred = pd.DataFrame(y_pred)\n",
    "save_results(y_pred)"
   ]
  }
 ],
 "metadata": {
  "kernelspec": {
   "display_name": "venv",
   "language": "python",
   "name": "python3"
  },
  "language_info": {
   "name": "python",
   "version": "3.10.5 (tags/v3.10.5:f377153, Jun  6 2022, 16:14:13) [MSC v.1929 64 bit (AMD64)]"
  },
  "orig_nbformat": 4,
  "vscode": {
   "interpreter": {
    "hash": "134c0956bee0de0eb95f76ef28e41c42bea9a0b2a4862683746066ea95d452e8"
   }
  }
 },
 "nbformat": 4,
 "nbformat_minor": 2
}
