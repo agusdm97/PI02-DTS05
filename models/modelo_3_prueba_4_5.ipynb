{
 "cells": [
  {
   "attachments": {},
   "cell_type": "markdown",
   "metadata": {},
   "source": [
    "# Modelo: Bagging(DecisionTreeClassifier)\n",
    "\n",
    "---\n",
    "\n",
    "## Resultados dashboard\n",
    "\n",
    "- Prueba N° 4: \n",
    "    - Recall: 0.787\n",
    "    - Acurracy: 0.751\n",
    "<br>\n",
    "<br>\n",
    "- Prueba N° 5: \n",
    "    - Recall: 0.787\n",
    "    - Acurracy: 0.742"
   ]
  },
  {
   "cell_type": "code",
   "execution_count": null,
   "metadata": {},
   "outputs": [],
   "source": [
    "import pandas as pd\n",
    "import numpy as np\n",
    "from sklearn.model_selection import GridSearchCV\n",
    "from sklearn.ensemble import BaggingClassifier\n",
    "from sklearn.tree import DecisionTreeClassifier\n",
    "from models.utils import transform_df, save_results"
   ]
  },
  {
   "attachments": {},
   "cell_type": "markdown",
   "metadata": {},
   "source": [
    "#### Se cargan los datos y se realizan las transformaciones"
   ]
  },
  {
   "cell_type": "code",
   "execution_count": null,
   "metadata": {},
   "outputs": [],
   "source": [
    "df_train = transform_df(\"datasets/hospitalizaciones_train.csv\")\n",
    "df_test = transform_df(\"datasets/hospitalizaciones_test.csv\", test=True)"
   ]
  },
  {
   "attachments": {},
   "cell_type": "markdown",
   "metadata": {},
   "source": [
    "#### Se extraen los valores de train y test"
   ]
  },
  {
   "cell_type": "code",
   "execution_count": null,
   "metadata": {},
   "outputs": [],
   "source": [
    "x_train = df_train.drop(columns=[\"stay_labed\"]).values\n",
    "y_train = df_train[\"stay_labed\"].values.reshape(-1, 1)\n",
    "x_test = df_test.values"
   ]
  },
  {
   "attachments": {},
   "cell_type": "markdown",
   "metadata": {},
   "source": [
    "#### Se definen los parametros a optimizar"
   ]
  },
  {
   "cell_type": "code",
   "execution_count": null,
   "metadata": {},
   "outputs": [],
   "source": [
    "test_params = {\n",
    "    \"estimator\": [\n",
    "        DecisionTreeClassifier(max_depth=10),\n",
    "        DecisionTreeClassifier(max_depth=20),\n",
    "    ],\n",
    "    \"n_estimators\": np.arange(101, 151, 10),\n",
    "    \"max_features\": np.arange(0.6, 0.9, 0.1),\n",
    "    \"max_samples\": np.arange(0.6, 0.9, 0.1),\n",
    "}"
   ]
  },
  {
   "attachments": {},
   "cell_type": "markdown",
   "metadata": {},
   "source": [
    "#### Se realiza la busqueda de los parametros optimos"
   ]
  },
  {
   "cell_type": "code",
   "execution_count": null,
   "metadata": {},
   "outputs": [],
   "source": [
    "grid_serch_bagging_classifier = GridSearchCV(\n",
    "    estimator=BaggingClassifier(),\n",
    "    cv=5,\n",
    "    n_jobs=2,\n",
    "    param_grid=test_params,\n",
    "    scoring=[\"recall\", \"accuracy\"],\n",
    "    refit=\"recall\",\n",
    "    verbose=4,\n",
    ")\n",
    "grid_serch_bagging_classifier.fit(x_train, y_train)"
   ]
  },
  {
   "attachments": {},
   "cell_type": "markdown",
   "metadata": {},
   "source": [
    "#### Se asignan los mejores parametros"
   ]
  },
  {
   "cell_type": "code",
   "execution_count": null,
   "metadata": {},
   "outputs": [],
   "source": [
    "best_params = grid_serch_bagging_classifier.best_params_"
   ]
  },
  {
   "attachments": {},
   "cell_type": "markdown",
   "metadata": {},
   "source": [
    "#### Se instancia el modelo con los parametros encontrados y se realiza la predicción"
   ]
  },
  {
   "cell_type": "code",
   "execution_count": null,
   "metadata": {},
   "outputs": [],
   "source": [
    "bagging_classifier = BaggingClassifier(**best_params)\n",
    "y_pred = bagging_classifier.predict(x_test)"
   ]
  },
  {
   "attachments": {},
   "cell_type": "markdown",
   "metadata": {},
   "source": [
    "#### Se guardan los resultados obtenidos en la predicción"
   ]
  },
  {
   "cell_type": "code",
   "execution_count": null,
   "metadata": {},
   "outputs": [],
   "source": [
    "y_pred = pd.DataFrame(y_pred)\n",
    "save_results(series=y_pred, model=(bagging_classifier,\"model_\"))"
   ]
  }
 ],
 "metadata": {
  "kernelspec": {
   "display_name": "venv",
   "language": "python",
   "name": "python3"
  },
  "language_info": {
   "name": "python",
   "version": "3.10.5 (tags/v3.10.5:f377153, Jun  6 2022, 16:14:13) [MSC v.1929 64 bit (AMD64)]"
  },
  "orig_nbformat": 4,
  "vscode": {
   "interpreter": {
    "hash": "134c0956bee0de0eb95f76ef28e41c42bea9a0b2a4862683746066ea95d452e8"
   }
  }
 },
 "nbformat": 4,
 "nbformat_minor": 2
}
