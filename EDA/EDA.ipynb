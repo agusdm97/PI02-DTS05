{
 "cells": [
  {
   "cell_type": "code",
   "execution_count": 1,
   "metadata": {},
   "outputs": [],
   "source": [
    "import pandas as pd"
   ]
  },
  {
   "cell_type": "code",
   "execution_count": 2,
   "metadata": {},
   "outputs": [],
   "source": [
    "df = pd.read_csv(\"../datasets/hospitalizaciones_train.csv\")"
   ]
  },
  {
   "attachments": {},
   "cell_type": "markdown",
   "metadata": {},
   "source": [
    "### Valores nulos"
   ]
  },
  {
   "cell_type": "code",
   "execution_count": 3,
   "metadata": {},
   "outputs": [
    {
     "name": "stdout",
     "output_type": "stream",
     "text": [
      "<class 'pandas.core.frame.DataFrame'>\n",
      "RangeIndex: 410000 entries, 0 to 409999\n",
      "Data columns (total 15 columns):\n",
      " #   Column                             Non-Null Count   Dtype  \n",
      "---  ------                             --------------   -----  \n",
      " 0   Available Extra Rooms in Hospital  410000 non-null  int64  \n",
      " 1   Department                         410000 non-null  object \n",
      " 2   Ward_Facility_Code                 410000 non-null  object \n",
      " 3   doctor_name                        410000 non-null  object \n",
      " 4   staff_available                    410000 non-null  int64  \n",
      " 5   patientid                          410000 non-null  int64  \n",
      " 6   Age                                410000 non-null  object \n",
      " 7   gender                             410000 non-null  object \n",
      " 8   Type of Admission                  410000 non-null  object \n",
      " 9   Severity of Illness                410000 non-null  object \n",
      " 10  health_conditions                  410000 non-null  object \n",
      " 11  Visitors with Patient              410000 non-null  int64  \n",
      " 12  Insurance                          410000 non-null  object \n",
      " 13  Admission_Deposit                  410000 non-null  float64\n",
      " 14  Stay (in days)                     410000 non-null  int64  \n",
      "dtypes: float64(1), int64(5), object(9)\n",
      "memory usage: 46.9+ MB\n"
     ]
    }
   ],
   "source": [
    "df.info()"
   ]
  },
  {
   "attachments": {},
   "cell_type": "markdown",
   "metadata": {},
   "source": [
    "    Conclusión: El dataset no presenta valores nulos\n",
    "\n",
    "---"
   ]
  },
  {
   "attachments": {},
   "cell_type": "markdown",
   "metadata": {},
   "source": [
    "### Descripción de las columnas\n",
    "\n",
    "- Available Extra Rooms in Hospital: Habitaciones adicionales disponibles en el hospital. Una habitación no es igual a un paciente, pueden ser individuales o compartidas.\n",
    "- Department: Área de atención a la que ingresa el paciente. \n",
    "- Ward_Facility_Code: Código de la habitación del paciente.\n",
    "- doctor_name: Nombre de el/la doctor/a a cargo del paciente.\n",
    "- staff_available: Cantidad de personal disponible al momento del ingreso del paciente.\n",
    "- patientid: Identificador del paciente.\n",
    "- Age: Edad del paciente.\n",
    "- gender: Género del paciente.\n",
    "- Type of Admission: Tipo de ingreso registrado según la situación de ingreso del paciente.\n",
    "- Severity of Illness: Gravedad de la enfermedad/condición/estado del paciente al momento del ingreso.\n",
    "- health_conditions: Condiciones de salud del paciente. \n",
    "- Visitors with Patient: Cantidad de visitantes registrados para el paciente.\n",
    "- Insurance: Indica si la persona posee o no seguro de salud. \n",
    "- Admission_Deposit: Pago realizado a nombre del paciente, con el fin de cubrir los costos iniciales de internación. \n",
    "- Stay (in days): Días registrados de estancia hospitalaria. "
   ]
  },
  {
   "attachments": {},
   "cell_type": "markdown",
   "metadata": {},
   "source": [
    "    Conclusión: Se eliminan las columnas \"Ward_Facility_Code\", \"patientid\" y \"Visitors with Patient\" por no tener una relación lógica con la variable objetivo \n",
    "\n",
    "---"
   ]
  },
  {
   "attachments": {},
   "cell_type": "markdown",
   "metadata": {},
   "source": [
    "### Columnas \"gender\", \"Severity of Illness\", \"health_conditions\", \"Type of Admission\", \"Department\" y \"doctor_name\""
   ]
  },
  {
   "cell_type": "code",
   "execution_count": 4,
   "metadata": {},
   "outputs": [
    {
     "name": "stdout",
     "output_type": "stream",
     "text": [
      "gender: ['Female' 'Male' 'Other']\n",
      "Severity of Illness: ['Extreme' 'Minor' 'Moderate']\n",
      "health_conditions: ['Diabetes' 'Heart disease' 'None' 'Other' 'Asthama' 'High Blood Pressure']\n",
      "Type of Admission: ['Trauma' 'Urgent' 'Emergency']\n",
      "Department: ['gynecology' 'anesthesia' 'TB & Chest disease' 'radiotherapy' 'surgery']\n",
      "doctor_name: ['Dr Sophia' 'Dr Olivia' 'Dr Mark' 'Dr John' 'Dr Sarah' 'Dr Sam'\n",
      " 'Dr Nathan' 'Dr Simon' 'Dr Isaac']\n"
     ]
    }
   ],
   "source": [
    "print(\"gender:\", df[\"gender\"].unique())\n",
    "print(\"Severity of Illness:\", df[\"Severity of Illness\"].unique())\n",
    "print(\"health_conditions:\", df[\"health_conditions\"].unique())\n",
    "print(\"Type of Admission:\", df[\"Type of Admission\"].unique())\n",
    "print(\"Department:\", df[\"Department\"].unique())\n",
    "print(\"doctor_name:\", df[\"doctor_name\"].unique())"
   ]
  },
  {
   "attachments": {},
   "cell_type": "markdown",
   "metadata": {},
   "source": [
    "    Conclusión: Se realiza una transformación con OneHotEncoder para las variables categoricas nominales\n",
    "---"
   ]
  },
  {
   "attachments": {},
   "cell_type": "markdown",
   "metadata": {},
   "source": [
    "### Columnas \"Age\" y \"Insurance\""
   ]
  },
  {
   "cell_type": "code",
   "execution_count": 5,
   "metadata": {},
   "outputs": [
    {
     "name": "stdout",
     "output_type": "stream",
     "text": [
      "Age: ['41-50' '31-40' '21-30' '71-80' '11-20' '51-60' '61-70' '81-90' '91-100'\n",
      " '0-10']\n",
      "Insurance: ['Yes' 'No']\n"
     ]
    }
   ],
   "source": [
    "print(\"Age:\", df[\"Age\"].unique())\n",
    "print(\"Insurance:\", df[\"Insurance\"].unique())"
   ]
  },
  {
   "attachments": {},
   "cell_type": "markdown",
   "metadata": {},
   "source": [
    "    Conclusión: Se realiza una transformación con LabelEncoder para las varibales categoricas ordinales\n",
    "---"
   ]
  },
  {
   "attachments": {},
   "cell_type": "markdown",
   "metadata": {},
   "source": [
    "### Columna \"Admission_Deposit\""
   ]
  },
  {
   "cell_type": "code",
   "execution_count": 6,
   "metadata": {},
   "outputs": [
    {
     "data": {
      "text/plain": [
       "count    410000.000000\n",
       "mean       4723.419239\n",
       "std        1047.420292\n",
       "min        1654.005148\n",
       "25%        4072.638351\n",
       "50%        4627.488745\n",
       "75%        5092.349430\n",
       "max       10104.726390\n",
       "Name: Admission_Deposit, dtype: float64"
      ]
     },
     "execution_count": 6,
     "metadata": {},
     "output_type": "execute_result"
    }
   ],
   "source": [
    "df[\"Admission_Deposit\"].describe()"
   ]
  },
  {
   "attachments": {},
   "cell_type": "markdown",
   "metadata": {},
   "source": [
    "    Conclusión: Se realiza una transformación con StandarScaler para las variables numericas\n",
    "---"
   ]
  }
 ],
 "metadata": {
  "kernelspec": {
   "display_name": "venv",
   "language": "python",
   "name": "python3"
  },
  "language_info": {
   "codemirror_mode": {
    "name": "ipython",
    "version": 3
   },
   "file_extension": ".py",
   "mimetype": "text/x-python",
   "name": "python",
   "nbconvert_exporter": "python",
   "pygments_lexer": "ipython3",
   "version": "3.10.5"
  },
  "orig_nbformat": 4,
  "vscode": {
   "interpreter": {
    "hash": "134c0956bee0de0eb95f76ef28e41c42bea9a0b2a4862683746066ea95d452e8"
   }
  }
 },
 "nbformat": 4,
 "nbformat_minor": 2
}
